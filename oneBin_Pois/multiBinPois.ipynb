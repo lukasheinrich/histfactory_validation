{
 "cells": [
  {
   "cell_type": "code",
   "execution_count": 1,
   "metadata": {
    "collapsed": false
   },
   "outputs": [
    {
     "name": "stdout",
     "output_type": "stream",
     "text": [
      "Populating the interactive namespace from numpy and matplotlib\n"
     ]
    }
   ],
   "source": [
    "%pylab inline"
   ]
  },
  {
   "cell_type": "code",
   "execution_count": 2,
   "metadata": {
    "collapsed": false,
    "scrolled": false
   },
   "outputs": [],
   "source": [
    "from scipy.stats import poisson, norm\n",
    "from scipy.optimize import minimize\n",
    "import numpy as np\n",
    "\n",
    "def poisson_val(n,lam):\n",
    "    #use continuous gaussian approx, b/c asimov data may not be integer\n",
    "    return norm.pdf(n, loc = lam, scale = math.sqrt(lam))\n",
    "\n",
    "def expected_counts(pars,s,constants):\n",
    "    poi = pars[0]\n",
    "    nuisance_pars = pars[1:]\n",
    "    \n",
    "    signal_counts     = s(poi)\n",
    "    background_counts = nuisance_pars\n",
    "    tau_constants     = constants\n",
    "        \n",
    "    expected_actual = []\n",
    "    expected_constraints = []\n",
    "    \n",
    "        \n",
    "    for s,b,tau in zip(signal_counts, background_counts, tau_constants):\n",
    "        expected_actual.append(s+b)\n",
    "        expected_constraints.append(tau*b)\n",
    "\n",
    "    expected = expected_actual + expected_constraints\n",
    "    return expected\n",
    "\n",
    "def model_pdf(pars, data, s, constants):\n",
    "    lambdas = expected_counts(pars,s,constants)\n",
    "    product = 1\n",
    "    for data_bin, lambda_bin in zip(data, lambdas):\n",
    "        product = product * poisson_val(data_bin, lambda_bin)\n",
    "    return product\n",
    "\n",
    "def generate_asimov_data(asimov_mu,data,constants,s, init_pars,par_bounds):\n",
    "    bestfit_nuisance_asimov = constrained_bestfit(asimov_mu,data,constants,s, init_pars,par_bounds)\n",
    "    return expected_counts(bestfit_nuisance_asimov,s,constants)\n",
    "\n",
    "##########################\n",
    "\n",
    "def loglambdav(pars, data, constants, s):\n",
    "    poi = pars[0]\n",
    "    nuisance_pars = pars[1:]\n",
    "    return -2*np.log(model_pdf(pars, data, s, constants))\n",
    "\n",
    "\n",
    "### The Test Statistic\n",
    "def qmu(mu,data,constants,s, init_pars,par_bounds):\n",
    "    mubhathat = constrained_bestfit(mu,data,constants,s, init_pars,par_bounds)\n",
    "    muhatbhat = unconstrained_bestfit(data,constants,s, init_pars,par_bounds)\n",
    "    qmu = loglambdav(mubhathat, data, constants,s)-loglambdav(muhatbhat, data, constants,s)\n",
    "    if muhatbhat[0] > mu:\n",
    "        return 0.0\n",
    "    if -1e-6 < qmu <0:\n",
    "        print 'WARNING: qmu negative: ', qmu\n",
    "        return 0.0\n",
    "    return qmu\n",
    "\n",
    "### The Global Fit\n",
    "def unconstrained_bestfit(data, constants,s, init_pars,par_bounds):\n",
    "    result = minimize(loglambdav, init_pars, method='SLSQP', args = (data,constants,s), bounds = par_bounds)\n",
    "    try:\n",
    "        assert result.success\n",
    "    except AssertionError:\n",
    "        print result\n",
    "    return result.x\n",
    "\n",
    "### The Fit Conditions on a specific POI value\n",
    "def constrained_bestfit(constrained_mu,data, constants,s, init_pars,par_bounds):\n",
    "    cons = {'type': 'eq', 'fun': lambda v: v[0]-constrained_mu}\n",
    "    result = minimize(loglambdav, init_pars, constraints=cons, method='SLSQP',args = (data,constants,s), bounds = par_bounds)\n",
    "    try:\n",
    "        assert result.success\n",
    "    except AssertionError:\n",
    "        print result\n",
    "    return result.x\n",
    "    \n",
    "def pvals_from_teststat(sqrtqmu_v,sqrtqmuA_v):\n",
    "    CLsb = 1-norm.cdf(sqrtqmu_v )\n",
    "    CLb  = norm.cdf(sqrtqmuA_v-sqrtqmu_v)\n",
    "    CLs  = CLb/CLsb\n",
    "    return CLsb,CLb,CLs\n",
    "\n",
    "def runOnePoint(muTest, data,constants,s,init_pars,par_bounds):\n",
    "    asimov_mu = 0.0\n",
    "    asimov_data = generate_asimov_data(asimov_mu,data,constants,s,init_pars,par_bounds)\n",
    "\n",
    "    qmu_v  = qmu(muTest,data, constants,s, init_pars,par_bounds)\n",
    "    qmuA_v = qmu(muTest,asimov_data, constants,s,init_pars,par_bounds)\n",
    "    sqrtqmu_v = math.sqrt(qmu_v)\n",
    "    sqrtqmuA_v = math.sqrt(qmuA_v)\n",
    "    \n",
    "    sigma = muTest/sqrtqmuA_v if sqrtqmuA_v > 0 else None\n",
    "\n",
    "    CLsb,CLb,CLs = pvals_from_teststat(sqrtqmu_v, sqrtqmuA_v)\n",
    "    \n",
    "    CLs_exp = []\n",
    "    for nsigma in [-2,-1,0,1,2]:\n",
    "        sqrtqmu_v_sigma =  sqrtqmuA_v-nsigma \n",
    "        CLs_exp.append(pvals_from_teststat(sqrtqmu_v_sigma,sqrtqmuA_v)[-1])\n",
    "    return qmu_v,qmuA_v,sigma,CLsb,CLb,CLs,CLs_exp\n",
    "\n",
    "def runOnePoint_nbdelta(muTest, observed_counts,backgrounds_incl_uncert,nominal_signals, init_pars,par_bounds):\n",
    "    constants = []\n",
    "    actual_data = []\n",
    "    constraint_data = []\n",
    "    \n",
    "    for n, b_incl_uncert, snom in zip(observed_counts,backgrounds_incl_uncert,nominal_signals):\n",
    "        b, deltab = b_incl_uncert\n",
    "        tau = b/deltab/deltab\n",
    "        actual_data.append(n)\n",
    "        constraint_data.append(tau*b)\n",
    "        constants.append(tau)\n",
    "\n",
    "    data = actual_data + constraint_data\n",
    "    \n",
    "    s = lambda mu: [mu*snom for snom in nominal_signals]  # signal_counts as function of signal strength\n",
    "    return runOnePoint(muTest, data,constants,s,init_pars,par_bounds)    "
   ]
  },
  {
   "cell_type": "code",
   "execution_count": 3,
   "metadata": {
    "collapsed": true
   },
   "outputs": [],
   "source": [
    "def invert_interval(testmus,cls_obs, cls_exp, test_size = 0.05):\n",
    "    point05cross = {'exp':[],'obs':None}\n",
    "    for cls_exp_sigma in cls_exp:\n",
    "        yvals = [x for x in cls_exp_sigma]\n",
    "        point05cross['exp'].append(np.interp(test_size,list(reversed(yvals)),list(reversed(testmus))))\n",
    "        \n",
    "    yvals = cls_obs\n",
    "    point05cross['obs'] = np.interp(test_size,list(reversed(yvals)),list(reversed(testmus)))\n",
    "    return point05cross"
   ]
  },
  {
   "cell_type": "code",
   "execution_count": 4,
   "metadata": {
    "collapsed": true
   },
   "outputs": [],
   "source": [
    "def plot_results(testmus,cls_obs, cls_exp, test_size = 0.05):\n",
    "    plt.plot(mutests,cls_obs, c = 'k')\n",
    "    for i,c in zip(range(5),['grey','grey','grey','grey','grey']):\n",
    "        plt.plot(mutests,cls_exp[i], c = c)\n",
    "    plt.plot(testmus,[test_size]*len(testmus), c = 'r')\n",
    "    plt.ylim(0,1)\n"
   ]
  },
  {
   "cell_type": "code",
   "execution_count": 5,
   "metadata": {
    "collapsed": false,
    "scrolled": false
   },
   "outputs": [
    {
     "name": "stdout",
     "output_type": "stream",
     "text": [
      "ON MU=1\n",
      "CLs: obs 0.00521188078504 exp: [6.430963503387318e-05, 0.00074682514278028456, 0.0074520043681136627, 0.055714377575372703, 0.25534867031149289]\n",
      "RUN SCAN\n"
     ]
    },
    {
     "name": "stderr",
     "output_type": "stream",
     "text": [
      "/Library/Python/2.7/site-packages/ipykernel/__main__.py:81: RuntimeWarning: divide by zero encountered in double_scalars\n"
     ]
    },
    {
     "data": {
      "text/plain": [
       "{'exp': [0.4309309979961827,\n",
       "  0.5605303824363357,\n",
       "  0.7470123756919155,\n",
       "  1.0233046284116467,\n",
       "  1.3493988720818066],\n",
       " 'obs': 0.7175112926172658}"
      ]
     },
     "execution_count": 5,
     "metadata": {},
     "output_type": "execute_result"
    },
    {
     "data": {
      "image/png": "[encoded data removed]",
      "text/plain": [
       "<matplotlib.figure.Figure at 0x10dc59050>"
      ]
     },
     "metadata": {},
     "output_type": "display_data"
    }
   ],
   "source": [
    "source = {\n",
    "  \"binning\": [2,-0.5,1.5],\n",
    "  \"bindata\": {\n",
    "    \"data\":    [100.0, 145.0],\n",
    "    \"bkg\":     [100.0, 150.0],\n",
    "    \"bkgerr\":  [15.0, 20.0],\n",
    "    \"sig\":     [30.0, 45.0]\n",
    "  }\n",
    "}\n",
    "# import json\n",
    "# source = json.load(open('./data/source.json'))\n",
    "\n",
    "\n",
    "my_observed_counts = source['bindata']['data']\n",
    "my_background_counts = zip(source['bindata']['bkg'],source['bindata']['bkgerr'])\n",
    "my_signal_counts = source['bindata']['sig']\n",
    "init_pars = [1.0] + [b[0] for b in my_background_counts]\n",
    "par_bounds = [[0,10]] + [[0.5*b,2.*b] for b,db in my_background_counts]\n",
    "\n",
    "# print my_observed_counts\n",
    "# print my_background_counts\n",
    "# print my_signal_counts\n",
    "# print init_pars\n",
    "# print par_bounds\n",
    "# runOnePoint_nbdelta(1.0,my_observed_counts,my_background_counds,my_signal_counts,init_pars,par_bounds)\n",
    "\n",
    "\n",
    "print 'ON MU=1'\n",
    "d = runOnePoint_nbdelta(1.0,my_observed_counts,my_background_counts,my_signal_counts,init_pars,par_bounds)\n",
    "print 'CLs: obs {} exp: {}'.format(1./d[-2],[1./x for x in d[-1]])\n",
    "\n",
    "print 'RUN SCAN'\n",
    "\n",
    "\n",
    "mutests = np.linspace(0,5,41)\n",
    "tests = [runOnePoint_nbdelta(muTest,my_observed_counts,my_background_counts,my_signal_counts,init_pars,par_bounds) for muTest in mutests]\n",
    "cls_obs = [1./test[-2]  for test in tests]\n",
    "cls_exp = [[1./(test[-1][i])  for test in tests] for i in range(5)]\n",
    "\n",
    "plot_results(mutests, cls_obs, cls_exp)\n",
    "\n",
    "invert_interval(mutests, cls_obs, cls_exp)"
   ]
  },
  {
   "cell_type": "code",
   "execution_count": null,
   "metadata": {
    "collapsed": true
   },
   "outputs": [],
   "source": []
  },
  {
   "cell_type": "code",
   "execution_count": null,
   "metadata": {
    "collapsed": true
   },
   "outputs": [],
   "source": []
  },
  {
   "cell_type": "code",
   "execution_count": null,
   "metadata": {
    "collapsed": true
   },
   "outputs": [],
   "source": []
  },
  {
   "cell_type": "code",
   "execution_count": null,
   "metadata": {
    "collapsed": true
   },
   "outputs": [],
   "source": []
  },
  {
   "cell_type": "code",
   "execution_count": null,
   "metadata": {
    "collapsed": true
   },
   "outputs": [],
   "source": []
  }
 ],
 "metadata": {
  "kernelspec": {
   "display_name": "Python 2",
   "language": "python",
   "name": "python2"
  },
  "language_info": {
   "codemirror_mode": {
    "name": "ipython",
    "version": 2
   },
   "file_extension": ".py",
   "mimetype": "text/x-python",
   "name": "python",
   "nbconvert_exporter": "python",
   "pygments_lexer": "ipython2",
   "version": "2.7.10"
  }
 },
 "nbformat": 4,
 "nbformat_minor": 1
}
