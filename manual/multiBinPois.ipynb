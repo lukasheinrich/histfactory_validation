{
 "cells": [
  {
   "cell_type": "code",
   "execution_count": 1,
   "metadata": {
    "collapsed": false
   },
   "outputs": [
    {
     "name": "stdout",
     "output_type": "stream",
     "text": [
      "Populating the interactive namespace from numpy and matplotlib\n"
     ]
    }
   ],
   "source": [
    "%pylab inline"
   ]
  },
  {
   "cell_type": "code",
   "execution_count": 2,
   "metadata": {
    "collapsed": false,
    "scrolled": false
   },
   "outputs": [],
   "source": [
    "from pyhf import runOnePoint\n",
    "\n",
    "def prep_data(observed_counts,backgrounds_incl_uncert,nominal_signals):\n",
    "    constants = []\n",
    "    actual_data = []\n",
    "    constraint_data = []\n",
    "    \n",
    "    for n, b_incl_uncert, snom in zip(observed_counts,backgrounds_incl_uncert,nominal_signals):\n",
    "        b, deltab = b_incl_uncert\n",
    "        tau = b/deltab/deltab\n",
    "        actual_data.append(n)\n",
    "        constraint_data.append(tau*b)\n",
    "        constants.append(tau)\n",
    "\n",
    "    data = actual_data + constraint_data\n",
    "    s = lambda mu: [mu*snom for snom in nominal_signals]  # signal_counts as function of signal strength\n",
    "    return data, constants, s\n",
    "    \n",
    "def runOnePoint_nbdelta(muTest, observed_counts,backgrounds_incl_uncert,nominal_signals, init_pars,par_bounds):\n",
    "    data, constants, s = prep_data(observed_counts,backgrounds_incl_uncert,nominal_signals)\n",
    "    return runOnePoint(muTest, data,constants,s,init_pars,par_bounds)    "
   ]
  },
  {
   "cell_type": "code",
   "execution_count": 3,
   "metadata": {
    "collapsed": true
   },
   "outputs": [],
   "source": [
    "def invert_interval(testmus,cls_obs, cls_exp, test_size = 0.05):\n",
    "    point05cross = {'exp':[],'obs':None}\n",
    "    for cls_exp_sigma in cls_exp:\n",
    "        yvals = [x for x in cls_exp_sigma]\n",
    "        point05cross['exp'].append(np.interp(test_size,list(reversed(yvals)),list(reversed(testmus))))\n",
    "        \n",
    "    yvals = cls_obs\n",
    "    point05cross['obs'] = np.interp(test_size,list(reversed(yvals)),list(reversed(testmus)))\n",
    "    return point05cross"
   ]
  },
  {
   "cell_type": "code",
   "execution_count": 4,
   "metadata": {
    "collapsed": true
   },
   "outputs": [],
   "source": [
    "def plot_results(testmus,cls_obs, cls_exp, test_size = 0.05):\n",
    "    plt.plot(mutests,cls_obs, c = 'k')\n",
    "    for i,c in zip(range(5),['grey','grey','grey','grey','grey']):\n",
    "        plt.plot(mutests,cls_exp[i], c = c)\n",
    "    plt.plot(testmus,[test_size]*len(testmus), c = 'r')\n",
    "    plt.ylim(0,1)\n"
   ]
  },
  {
   "cell_type": "code",
   "execution_count": 118,
   "metadata": {
    "collapsed": false,
    "scrolled": false
   },
   "outputs": [
    {
     "name": "stdout",
     "output_type": "stream",
     "text": [
      "ON MU=1\n",
      "CLs: obs 0.0252976914593 exp: [9.2991163792600961e-05, 0.0010040386766947517, 0.0093306955004426317, 0.065173349913538861, 0.28074205389841478]\n",
      "RUN SCAN\n"
     ]
    },
    {
     "data": {
      "text/plain": [
       "{'exp': [0.44258020176156637,\n",
       "  0.5752406915803817,\n",
       "  0.7716556141136471,\n",
       "  1.055068561661133,\n",
       "  1.381529254625564],\n",
       " 'obs': 0.8990904067366019}"
      ]
     },
     "execution_count": 118,
     "metadata": {},
     "output_type": "execute_result"
    },
    {
     "data": {
      "image/png": "[encoded data removed]",
      "text/plain": [
       "<matplotlib.figure.Figure at 0x109c897d0>"
      ]
     },
     "metadata": {},
     "output_type": "display_data"
    }
   ],
   "source": [
    "source = {\n",
    "  \"binning\": [2,-0.5,1.5],\n",
    "  \"bindata\": {\n",
    "    \"data\":    [120.0, 145.0],\n",
    "    \"bkg\":     [100.0, 150.0],\n",
    "    \"bkgerr\":  [15.0, 20.0],\n",
    "    \"sig\":     [30.0, 45.0]\n",
    "  }\n",
    "}\n",
    "# import json\n",
    "# source = json.load(open('./data/source.json'))\n",
    "\n",
    "\n",
    "my_observed_counts = source['bindata']['data']\n",
    "my_background_counts = zip(source['bindata']['bkg'],source['bindata']['bkgerr'])\n",
    "my_signal_counts = source['bindata']['sig']\n",
    "init_pars = [1.0] + [b[0] for b in my_background_counts]\n",
    "par_bounds = [[0,10]] + [[0.5*b,2.*b] for b,db in my_background_counts]\n",
    "\n",
    "print 'ON MU=1'\n",
    "d = runOnePoint_nbdelta(1.0,my_observed_counts,my_background_counts,my_signal_counts,init_pars,par_bounds)\n",
    "print 'CLs: obs {} exp: {}'.format(1./d[-2],[1./x for x in d[-1]])\n",
    "\n",
    "print 'RUN SCAN'\n",
    "mutests = np.linspace(0,5,41)\n",
    "tests = [runOnePoint_nbdelta(muTest,my_observed_counts,my_background_counts,my_signal_counts,init_pars,par_bounds) for muTest in mutests]\n",
    "cls_obs = [1./test[-2]  for test in tests]\n",
    "cls_exp = [[1./(test[-1][i])  for test in tests] for i in range(5)]\n",
    "\n",
    "plot_results(mutests, cls_obs, cls_exp)\n",
    "\n",
    "invert_interval(mutests, cls_obs, cls_exp)"
   ]
  },
  {
   "cell_type": "code",
   "execution_count": 119,
   "metadata": {
    "collapsed": false
   },
   "outputs": [],
   "source": [
    "d,c,s = prep_data(my_observed_counts,my_background_counts,my_signal_counts)\n",
    "from pyhf import model_expected_actualdata, unconstrained_bestfit\n",
    "\n",
    "binning = source['binning']\n",
    "\n",
    "nominal_nuis = [b for b,db in my_background_counts]\n",
    "nom_bonly = model_expected_actualdata(s, 0.0, nominal_nuis, c)\n",
    "nom_sb = model_expected_actualdata(s, 1.0, nominal_nuis, c)\n",
    "\n",
    "bestfit_pars  = unconstrained_bestfit(d,c,s,init_pars,par_bounds)\n",
    "bestfit_cts = model_expected_actualdata(s, bestfit_pars[0], bestfit_pars[1:], c)\n",
    "\n",
    "def plot_histo(ax, binning, data):\n",
    "    bin_width = (binning[2]-binning[1])/binning[0]\n",
    "    bin_leftedges = np.linspace(binning[1],binning[2],binning[0]+1)[:-1]\n",
    "    bin_centers = [le + bin_width/2. for le in bin_leftedges]\n",
    "    ax.bar(bin_leftedges,data,1, alpha=0.5)\n",
    "\n",
    "\n",
    "def plot_data(ax, binning, data):\n",
    "    errors = [math.sqrt(d) for d in data]\n",
    "    bin_width = (binning[2]-binning[1])/binning[0]\n",
    "    bin_leftedges = np.linspace(binning[1],binning[2],binning[0]+1)[:-1]\n",
    "    bin_centers = [le + bin_width/2. for le in bin_leftedges]    \n",
    "    ax.bar(bin_centers,data,0, yerr=errors, linewidth=0, error_kw = dict(ecolor='k', elinewidth = 1))\n",
    "    ax.scatter(bin_centers, data)"
   ]
  },
  {
   "cell_type": "code",
   "execution_count": 120,
   "metadata": {
    "collapsed": false
   },
   "outputs": [
    {
     "data": {
      "image/png": "[encoded data removed]",
      "text/plain": [
       "<matplotlib.figure.Figure at 0x10c18f990>"
      ]
     },
     "metadata": {},
     "output_type": "display_data"
    }
   ],
   "source": [
    "f,axarr = plt.subplots(1,3,sharey=True)\n",
    "f.set_size_inches(12,4)\n",
    "\n",
    "plot_histo(axarr[0], binning, nom_bonly)\n",
    "plot_data(axarr[0], binning, my_observed_counts)\n",
    "\n",
    "plot_histo(axarr[1], binning, nom_sb)\n",
    "plot_data(axarr[1], binning, my_observed_counts)\n",
    "\n",
    "plot_histo(axarr[2], binning, bestfit_cts)\n",
    "plot_data(axarr[2], binning, my_observed_counts)"
   ]
  },
  {
   "cell_type": "code",
   "execution_count": null,
   "metadata": {
    "collapsed": true
   },
   "outputs": [],
   "source": []
  }
 ],
 "metadata": {
  "kernelspec": {
   "display_name": "Python 2",
   "language": "python",
   "name": "python2"
  },
  "language_info": {
   "codemirror_mode": {
    "name": "ipython",
    "version": 2
   },
   "file_extension": ".py",
   "mimetype": "text/x-python",
   "name": "python",
   "nbconvert_exporter": "python",
   "pygments_lexer": "ipython2",
   "version": "2.7.10"
  }
 },
 "nbformat": 4,
 "nbformat_minor": 1
}
